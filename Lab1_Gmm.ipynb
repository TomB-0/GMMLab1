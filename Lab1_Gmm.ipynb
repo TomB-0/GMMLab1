{
  "cells": [
    {
      "attachments": {},
      "cell_type": "markdown",
      "metadata": {
        "id": "w_TcXo7clKZI"
      },
      "source": [
        "**GMM first labaratory work.**<br>\n",
        "Model - RasNet50<br>\n",
        "Class - banana, bee, jellyfish"
      ]
    },
    {
      "cell_type": "code",
      "execution_count": null,
      "metadata": {
        "colab": {
          "base_uri": "https://localhost:8080/"
        },
        "id": "_uKxjt8QaYUb",
        "outputId": "8b1b1efd-3475-4edb-8230-0eba6a0d0dc7"
      },
      "outputs": [],
      "source": [
        "!pip install openimages"
      ]
    },
    {
      "cell_type": "code",
      "execution_count": null,
      "metadata": {
        "id": "xUcyzgAGNUa6"
      },
      "outputs": [],
      "source": [
        "import torch\n",
        "import torch.nn as nn\n",
        "import os\n",
        "from openimages.download import download_dataset\n",
        "import torchvision\n",
        "from torch.autograd import Variable\n",
        "from torchvision import datasets\n",
        "from torchvision.transforms import transforms\n",
        "from torch.utils.data import DataLoader\n",
        "from torch.utils.data import Dataset\n",
        "import numpy as np\n",
        "from skimage import io\n",
        "from skimage.transform import resize\n",
        "from skimage.color import gray2rgb\n",
        "import glob\n",
        "import PIL\n",
        "from PIL import Image\n",
        "import matplotlib.pyplot as plt\n",
        "from torchvision.io import read_image\n",
        "from torchvision.models import resnet50, ResNet50_Weights"
      ]
    },
    {
      "cell_type": "markdown",
      "metadata": {
        "id": "eNUIPQAfldi-"
      },
      "source": [
        "**Downloading the images and setting up the dataset**"
      ]
    },
    {
      "cell_type": "code",
      "execution_count": null,
      "metadata": {
        "id": "Qrk-WqgbjdbZ"
      },
      "outputs": [],
      "source": [
        "#Setting up the information about dataset\n",
        "data_dir = \"data\"\n",
        "number_for_samples = 333\n",
        "classes = ['Banana', 'Bee', 'Jellyfish']"
      ]
    },
    {
      "cell_type": "code",
      "execution_count": null,
      "metadata": {
        "id": "p_7GXFmTaneq"
      },
      "outputs": [],
      "source": [
        "# Load the pre-trained ResNet50 model\n",
        "weights = ResNet50_Weights.DEFAULT\n",
        "model = resnet50(weights=weights)\n",
        "preprocess = weights.transforms()\n",
        "# Set the model to evaluation mode\n",
        "model.eval()"
      ]
    },
    {
      "cell_type": "code",
      "execution_count": null,
      "metadata": {
        "colab": {
          "base_uri": "https://localhost:8080/"
        },
        "id": "_LzJ_FGMmaeK",
        "outputId": "b48eda5c-5063-4b5e-8f5c-ba919656d8aa"
      },
      "outputs": [],
      "source": [
        "#Finding the indexes of used classes\n",
        "classesForIndexes = ['banana', 'bee', 'jellyfish']\n",
        "categories = weights.meta[\"categories\"]\n",
        "classesIndexes = [];\n",
        "category_to_index = {category: index for index, category in enumerate(categories)}\n",
        "for c in classesForIndexes:\n",
        "  category_index = category_to_index[c]\n",
        "  classesIndexes.append(category_index)\n",
        "\n",
        "print(classesIndexes)"
      ]
    },
    {
      "cell_type": "code",
      "execution_count": null,
      "metadata": {
        "id": "FnEfop7cjeFo"
      },
      "outputs": [],
      "source": [
        "#Making sure that the directory exists before proceding\n",
        "if not os.path.exists(data_dir):\n",
        "    os.makedirs(data_dir)"
      ]
    },
    {
      "cell_type": "code",
      "execution_count": null,
      "metadata": {
        "colab": {
          "base_uri": "https://localhost:8080/"
        },
        "id": "qON7i_T_jfyG",
        "outputId": "feb4b5c2-0a6d-4627-b375-43ee4f4648d1"
      },
      "outputs": [],
      "source": [
        "#Downloading the images from openimages dataset\n",
        "print(\"Downloading is starting...\")\n",
        "download_dataset(data_dir, classes, limit=number_for_samples)"
      ]
    },
    {
      "cell_type": "code",
      "execution_count": null,
      "metadata": {
        "id": "eW7faa1687IH"
      },
      "outputs": [],
      "source": [
        "#File transformation function\n",
        "def read_img(file_name):\n",
        "    img = io.imread(file_name)\n",
        "    if img.ndim == 2:\n",
        "      img = gray2rgb(img)\n",
        "    #Resize to the standart \n",
        "    img = [resize(img, (224, 224))]\n",
        "    img = torch.tensor(img)\n",
        "    #Changing the positions of tensor\n",
        "    img = img.permute(0, 3, 2, 1)\n",
        "    img_transformed = preprocess(img)\n",
        "    return img_transformed\n"
      ]
    },
    {
      "cell_type": "code",
      "execution_count": null,
      "metadata": {
        "id": "I1ccvy078m_T"
      },
      "outputs": [],
      "source": [
        "#Creating custom dataset\n",
        "class CustomDataset(Dataset):\n",
        "    def __init__(self, images_dir):\n",
        "        #All images directory\n",
        "        self.images_dir = images_dir\n",
        "        #Getting images of specific class directories\n",
        "        self.class1_files = glob.glob(self.images_dir + \"/{}/images/*.jpg\".format(classes[0].lower()))\n",
        "        self.class2_files = glob.glob(self.images_dir + \"/{}/images/*.jpg\".format(classes[1].lower()))\n",
        "        self.class3_files = glob.glob(self.images_dir + \"/{}/images/*.jpg\".format(classes[2].lower()))\n",
        "        #Getting length of each class\n",
        "        self.class1 = len(self.class1_files)\n",
        "        self.class2 = len(self.class2_files)\n",
        "        self.class3 = len(self.class3_files)\n",
        "        #All dataset length\n",
        "        self.files = self.class1_files + self.class2_files + self.class3_files\n",
        "        #Assigning labels to each file\n",
        "        self.labels = np.zeros(len(self.files), dtype=int)\n",
        "        for i, file_path in enumerate(self.files):\n",
        "            if file_path in self.class1_files:\n",
        "                self.labels[i] = classesIndexes[0]\n",
        "            elif file_path in self.class2_files:\n",
        "                self.labels[i] = classesIndexes[1]\n",
        "            else:\n",
        "                self.labels[i] = classesIndexes[2]\n",
        "\n",
        "\n",
        "    def __len__(self):\n",
        "        return len(self.labels)\n",
        "\n",
        "    def __getitem__(self, i):\n",
        "        #Getting files and transforming them\n",
        "        files = self.files[i]\n",
        "        im = read_img(files)[0]\n",
        "        y = self.labels[i]\n",
        "        return (im, y)\n",
        "dataset = CustomDataset(\"./data\")"
      ]
    },
    {
      "cell_type": "code",
      "execution_count": null,
      "metadata": {
        "id": "5Z4dkpV8-9zM"
      },
      "outputs": [],
      "source": [
        "#Initializing dataloader\n",
        "batch_size = 20\n",
        "dataloader = torch.utils.data.DataLoader(dataset, batch_size=batch_size, shuffle=False)"
      ]
    },
    {
      "cell_type": "markdown",
      "metadata": {
        "id": "3Xf6vbH5CKzd"
      },
      "source": [
        "**Model prediction using sigmoid**"
      ]
    },
    {
      "cell_type": "code",
      "execution_count": null,
      "metadata": {
        "id": "pN9Yp9apCHFC"
      },
      "outputs": [],
      "source": [
        "#Treshold [0:1]\n",
        "threshold = [0.50, 0.60, 0.70, 0.80, 0.90, 0.95, 0.999]\n",
        "#Initializing metrics for statistic calculation\n",
        "true_possitive = [0,0,0,0,0,0,0]\n",
        "false_possitive = [0,0,0,0,0,0,0]\n",
        "true_negative = [0,0,0,0,0,0,0]\n",
        "false_negative = [0,0,0,0,0,0,0]\n",
        "#Loading data from dataloader\n",
        "for data in dataloader:\n",
        "  inputs, labels = data\n",
        "  class_probs_batch = []\n",
        "  #Getting model predictions  \n",
        "  with torch.no_grad():\n",
        "    output = model(inputs)\n",
        "    probs = output.sigmoid()\n",
        "  #Picking out predictions from batch \n",
        "  for i in range(probs.shape[0]):\n",
        "    #Picking only predictions from selected classes\n",
        "    class_probs_item = [probs[i, j] for j in classesIndexes] #print\n",
        "    class_probs_batch.append(class_probs_item)\n",
        "  #Iteration for Label id from batch\n",
        "  x = 0\n",
        "  for cpb in class_probs_batch:\n",
        "    #Iteration for Class id from selected classes\n",
        "    j = 0\n",
        "    for cp in cpb:\n",
        "      #Iteration for threshold measurments \n",
        "      i = 0\n",
        "      for th in threshold:\n",
        "        #A positive instance that is correctly classified as positive by the model\n",
        "        if (classesIndexes[j] == labels[x]) and  (cp > th): \n",
        "            true_possitive[i] += 1\n",
        "        #A negative instance that is incorrectly classified as positive by the model.\n",
        "        elif (classesIndexes[j] == labels[x]) and (cp < th):\n",
        "            false_negative[i] += 1\n",
        "        #A positive instance that is incorrectly classified as negative by the model.\n",
        "        elif (classesIndexes[j] != labels[x]) and (cp > th):\n",
        "            false_possitive[i] += 1\n",
        "        #A negative instance that is correctly classified as negative by the model.\n",
        "        elif (classesIndexes[j] != labels[x]) and (cp < th):\n",
        "            true_negative[i] += 1\n",
        "        i+=1\n",
        "      j+=1\n",
        "    x+=1"
      ]
    },
    {
      "cell_type": "markdown",
      "metadata": {
        "id": "AKYtHILCzf6A"
      },
      "source": [
        "**Checking the results**"
      ]
    },
    {
      "cell_type": "code",
      "execution_count": null,
      "metadata": {
        "colab": {
          "base_uri": "https://localhost:8080/"
        },
        "id": "PCwQF28TrCoz",
        "outputId": "e0a4ae0f-a10d-4144-c931-c5d135e768a0"
      },
      "outputs": [],
      "source": [
        "i = 0\n",
        "while(i<7):\n",
        "  print(f\"tp: {true_possitive[i]}\")\n",
        "  print(f\"fp: {false_possitive[i]}\")\n",
        "  print(f\"tn: {true_negative[i]}\")\n",
        "  print(f\"fn: {false_negative[i]}\")\n",
        "  print()\n",
        "  i+=1"
      ]
    },
    {
      "cell_type": "markdown",
      "metadata": {
        "id": "v7TvqEqa19O5"
      },
      "source": [
        "**Calculating statistics**"
      ]
    },
    {
      "cell_type": "code",
      "execution_count": null,
      "metadata": {
        "colab": {
          "base_uri": "https://localhost:8080/"
        },
        "id": "zV5n0vPOWrzJ",
        "outputId": "e4cd8e5f-7476-4d19-e6a2-45401265dec1"
      },
      "outputs": [],
      "source": [
        "precisions = []\n",
        "recalls = []\n",
        "accuracies = []\n",
        "f1_scores = []\n",
        "\n",
        "\n",
        "\n",
        "i = 0\n",
        "for th in threshold:\n",
        "  #Precision measures how many of the predicted positive labels are actually true positives\n",
        "  precision = true_possitive[i] / (true_possitive[i] + false_possitive[i])\n",
        "  #Recall measures how many of the actual positive labels are correctly identified\n",
        "  recall = true_possitive[i] / (true_possitive[i] + false_negative[i])\n",
        "  #Accuracy measures how well the model correctly predicts both positive and negative labels\n",
        "  accuracy = (true_possitive[i] + true_negative[i]) / (true_possitive[i] + true_negative[i] + false_possitive[i] + false_negative[i]);\n",
        "  #The F1 statistic is a measure of a model's accuracy, specifically in terms of its precision and recall.\n",
        "  f1 = 2 * (precision * recall) / (precision + recall)\n",
        "\n",
        "  print(f\"Accuracy: {accuracy}\")\n",
        "  print(f\"Precision: {precision}\")\n",
        "  print(f\"Recall: {recall}\")\n",
        "  print(f\"F1: {f1}\\n\")\n",
        "\n",
        "  precisions.append(precision)\n",
        "  recalls.append(recall)\n",
        "  accuracies.append(accuracy)\n",
        "  f1_scores.append(f1)\n",
        "\n",
        "\n",
        "  i+=1"
      ]
    },
    {
      "cell_type": "markdown",
      "metadata": {
        "id": "OX9ddfOlz0nz"
      },
      "source": [
        "**Diagrams**"
      ]
    },
    {
      "cell_type": "code",
      "execution_count": null,
      "metadata": {
        "id": "X_CbMopPxTUI"
      },
      "outputs": [],
      "source": [
        "import matplotlib.pyplot as plt"
      ]
    },
    {
      "cell_type": "markdown",
      "metadata": {
        "id": "nJhVi34wy0T7"
      },
      "source": [
        "Precision statistic"
      ]
    },
    {
      "cell_type": "code",
      "execution_count": null,
      "metadata": {
        "colab": {
          "base_uri": "https://localhost:8080/",
          "height": 279
        },
        "id": "9_rM9pd-yDer",
        "outputId": "064f4037-02a1-47d9-fd5a-6e81c6b78629"
      },
      "outputs": [
        {
          "data": {
            "image/png": "[encoded data removed]",
            "text/plain": [
              "<Figure size 432x288 with 1 Axes>"
            ]
          },
          "metadata": {
            "needs_background": "light"
          },
          "output_type": "display_data"
        }
      ],
      "source": [
        "plt.plot(threshold, precisions, label='Precision')\n",
        "plt.xlabel('Threshold')\n",
        "plt.legend()\n",
        "plt.show()"
      ]
    },
    {
      "cell_type": "markdown",
      "metadata": {
        "id": "Xo3KVPAGy38r"
      },
      "source": [
        "Recal statistic"
      ]
    },
    {
      "cell_type": "code",
      "execution_count": null,
      "metadata": {
        "colab": {
          "base_uri": "https://localhost:8080/",
          "height": 279
        },
        "id": "6n89EP_gyUGl",
        "outputId": "e71f610e-1f61-48ac-8808-90d4a43d07d4"
      },
      "outputs": [
        {
          "data": {
            "image/png": "[encoded data removed]",
            "text/plain": [
              "<Figure size 432x288 with 1 Axes>"
            ]
          },
          "metadata": {
            "needs_background": "light"
          },
          "output_type": "display_data"
        }
      ],
      "source": [
        "plt.plot(threshold, recalls, label='Recal')\n",
        "plt.xlabel('Threshold')\n",
        "plt.legend()\n",
        "plt.show()"
      ]
    },
    {
      "cell_type": "markdown",
      "metadata": {
        "id": "UOHDEpBoy5r2"
      },
      "source": [
        "Accuracy statistic"
      ]
    },
    {
      "cell_type": "code",
      "execution_count": null,
      "metadata": {
        "colab": {
          "base_uri": "https://localhost:8080/",
          "height": 279
        },
        "id": "1431u6iEyb-b",
        "outputId": "a97e3755-8ac0-4193-dda5-ad14fec10b87"
      },
      "outputs": [
        {
          "data": {
            "image/png": "[encoded data removed]",
            "text/plain": [
              "<Figure size 432x288 with 1 Axes>"
            ]
          },
          "metadata": {
            "needs_background": "light"
          },
          "output_type": "display_data"
        }
      ],
      "source": [
        "plt.plot(threshold, accuracies, label='Accuracy')\n",
        "plt.xlabel('Threshold')\n",
        "plt.legend()\n",
        "plt.show()"
      ]
    },
    {
      "cell_type": "markdown",
      "metadata": {
        "id": "koqGJC3Wy8r5"
      },
      "source": [
        "F1 statistic"
      ]
    },
    {
      "cell_type": "code",
      "execution_count": null,
      "metadata": {
        "colab": {
          "base_uri": "https://localhost:8080/",
          "height": 279
        },
        "id": "2gOOql_MyjpB",
        "outputId": "a912f552-e44d-4f0e-cb82-fcd49231e0e5"
      },
      "outputs": [
        {
          "data": {
            "image/png": "[encoded data removed]",
            "text/plain": [
              "<Figure size 432x288 with 1 Axes>"
            ]
          },
          "metadata": {
            "needs_background": "light"
          },
          "output_type": "display_data"
        }
      ],
      "source": [
        "plt.plot(threshold, f1_scores, label='F1')\n",
        "plt.xlabel('Threshold')\n",
        "plt.legend()\n",
        "plt.show()"
      ]
    },
    {
      "cell_type": "markdown",
      "metadata": {
        "id": "Ez1r4Jt5zBov"
      },
      "source": [
        "All statistics"
      ]
    },
    {
      "cell_type": "code",
      "execution_count": null,
      "metadata": {
        "colab": {
          "base_uri": "https://localhost:8080/",
          "height": 279
        },
        "id": "Ty_3Yornytoo",
        "outputId": "396c8a4f-7de0-4320-d7fb-d17cd2389c2a"
      },
      "outputs": [
        {
          "data": {
            "image/png": "[encoded data removed]",
            "text/plain": [
              "<Figure size 432x288 with 1 Axes>"
            ]
          },
          "metadata": {
            "needs_background": "light"
          },
          "output_type": "display_data"
        }
      ],
      "source": [
        "plt.plot(threshold, precisions, label='Precision')\n",
        "plt.plot(threshold, recalls, label='Recall')\n",
        "plt.plot(threshold, accuracies, label='Accuracy')\n",
        "plt.plot(threshold, f1_scores, label='F1 Score')\n",
        "plt.xlabel('Threshold')\n",
        "plt.legend()\n",
        "plt.show()"
      ]
    }
  ],
  "metadata": {
    "colab": {
      "provenance": []
    },
    "kernelspec": {
      "display_name": "Python 3",
      "name": "python3"
    },
    "language_info": {
      "name": "python"
    }
  },
  "nbformat": 4,
  "nbformat_minor": 0
}
